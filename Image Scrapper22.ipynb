{
 "cells": [
  {
   "cell_type": "code",
   "execution_count": 29,
   "id": "d63ed4cf-5542-43df-a808-33138d01411d",
   "metadata": {},
   "outputs": [
    {
     "name": "stdout",
     "output_type": "stream",
     "text": [
      "Requirement already satisfied: requests in c:\\users\\pc\\anaconda3\\lib\\site-packages (2.32.2)\n",
      "Requirement already satisfied: beautifulsoup4 in c:\\users\\pc\\anaconda3\\lib\\site-packages (4.12.3)\n",
      "Requirement already satisfied: pandas in c:\\users\\pc\\anaconda3\\lib\\site-packages (2.2.2)\n",
      "Requirement already satisfied: charset-normalizer<4,>=2 in c:\\users\\pc\\anaconda3\\lib\\site-packages (from requests) (2.0.4)\n",
      "Requirement already satisfied: idna<4,>=2.5 in c:\\users\\pc\\anaconda3\\lib\\site-packages (from requests) (3.7)\n",
      "Requirement already satisfied: urllib3<3,>=1.21.1 in c:\\users\\pc\\anaconda3\\lib\\site-packages (from requests) (2.2.2)\n",
      "Requirement already satisfied: certifi>=2017.4.17 in c:\\users\\pc\\anaconda3\\lib\\site-packages (from requests) (2024.7.4)\n",
      "Requirement already satisfied: soupsieve>1.2 in c:\\users\\pc\\anaconda3\\lib\\site-packages (from beautifulsoup4) (2.5)\n",
      "Requirement already satisfied: numpy>=1.26.0 in c:\\users\\pc\\anaconda3\\lib\\site-packages (from pandas) (1.26.4)\n",
      "Requirement already satisfied: python-dateutil>=2.8.2 in c:\\users\\pc\\appdata\\roaming\\python\\python312\\site-packages (from pandas) (2.9.0.post0)\n",
      "Requirement already satisfied: pytz>=2020.1 in c:\\users\\pc\\anaconda3\\lib\\site-packages (from pandas) (2024.1)\n",
      "Requirement already satisfied: tzdata>=2022.7 in c:\\users\\pc\\anaconda3\\lib\\site-packages (from pandas) (2023.3)\n",
      "Requirement already satisfied: six>=1.5 in c:\\users\\pc\\appdata\\roaming\\python\\python312\\site-packages (from python-dateutil>=2.8.2->pandas) (1.16.0)\n",
      "Note: you may need to restart the kernel to use updated packages.\n"
     ]
    }
   ],
   "source": [
    "pip install requests beautifulsoup4 pandas\n"
   ]
  },
  {
   "cell_type": "code",
   "execution_count": 31,
   "id": "8afe6a6e-600c-476d-878b-3f097c2abaeb",
   "metadata": {},
   "outputs": [],
   "source": [
    "import requests\n",
    "from bs4 import BeautifulSoup\n",
    "import pandas as pd\n"
   ]
  },
  {
   "cell_type": "code",
   "execution_count": 33,
   "id": "dd9233f8-6ddd-40c6-a936-da172db58416",
   "metadata": {},
   "outputs": [],
   "source": [
    "url = \"https://www.youtube.com/@PW-Foundation/videos\"\n",
    "response = requests.get(url)\n",
    "soup = BeautifulSoup(response.text, 'html.parser')\n"
   ]
  },
  {
   "cell_type": "code",
   "execution_count": 35,
   "id": "03114bb7-e487-478d-81d6-d6d804c93d8b",
   "metadata": {},
   "outputs": [],
   "source": [
    "video_links = []\n",
    "for video in soup.find_all('a', class_='yt-simple-endpoint style-scope ytd-video-renderer', limit=5):\n",
    "    video_links.append('https://www.youtube.com' + video['href'])\n"
   ]
  },
  {
   "cell_type": "code",
   "execution_count": 37,
   "id": "6ad67a7c-046c-4927-bce2-5c7596c21b53",
   "metadata": {},
   "outputs": [],
   "source": [
    "thumbnail_links = []\n",
    "for thumbnail in soup.find_all('img', class_='style-scope yt-img-shadow', limit=5):\n",
    "    thumbnail_links.append(thumbnail['src'])\n"
   ]
  },
  {
   "cell_type": "code",
   "execution_count": 39,
   "id": "09d25bef-ddac-4bc4-94ec-1524fac1d20b",
   "metadata": {},
   "outputs": [],
   "source": [
    "titles = []\n",
    "for title in soup.find_all('a', class_='yt-simple-endpoint style-scope ytd-video-renderer', limit=5):\n",
    "    titles.append(title.get('title'))\n"
   ]
  },
  {
   "cell_type": "code",
   "execution_count": 41,
   "id": "5bb0d822-5cd8-4aa8-afce-d64de461b902",
   "metadata": {},
   "outputs": [],
   "source": [
    "views = []\n",
    "for view in soup.find_all('span', class_='style-scope ytd-video-meta-block', limit=5):\n",
    "    views.append(view.text)\n"
   ]
  },
  {
   "cell_type": "code",
   "execution_count": 43,
   "id": "756a5909-348e-4606-ae97-4a4689ed1c71",
   "metadata": {},
   "outputs": [],
   "source": [
    "posting_times = []\n",
    "for time in soup.find_all('div', class_='style-scope ytd-video-meta-block', limit=5):\n",
    "    posting_times.append(time.find('span', class_='style-scope ytd-video-meta-block').text)\n"
   ]
  },
  {
   "cell_type": "code",
   "execution_count": 45,
   "id": "29ee3248-0316-47be-be37-cec84aaf9d12",
   "metadata": {},
   "outputs": [],
   "source": [
    "data = {\n",
    "    'Title': titles,\n",
    "    'Video URL': video_links,\n",
    "    'Thumbnail URL': thumbnail_links,\n",
    "    'Views': views,\n",
    "    'Posting Time': posting_times\n",
    "}\n",
    "\n",
    "df = pd.DataFrame(data)\n",
    "df.to_csv('youtube_videos_data.csv', index=False)\n"
   ]
  },
  {
   "cell_type": "code",
   "execution_count": 47,
   "id": "6c3e2db4-7376-4dca-b7d9-01c9f8ea4ac6",
   "metadata": {},
   "outputs": [
    {
     "data": {
      "text/html": [
       "<div>\n",
       "<style scoped>\n",
       "    .dataframe tbody tr th:only-of-type {\n",
       "        vertical-align: middle;\n",
       "    }\n",
       "\n",
       "    .dataframe tbody tr th {\n",
       "        vertical-align: top;\n",
       "    }\n",
       "\n",
       "    .dataframe thead th {\n",
       "        text-align: right;\n",
       "    }\n",
       "</style>\n",
       "<table border=\"1\" class=\"dataframe\">\n",
       "  <thead>\n",
       "    <tr style=\"text-align: right;\">\n",
       "      <th></th>\n",
       "      <th>Title</th>\n",
       "      <th>Video URL</th>\n",
       "      <th>Thumbnail URL</th>\n",
       "      <th>Views</th>\n",
       "      <th>Posting Time</th>\n",
       "    </tr>\n",
       "  </thead>\n",
       "  <tbody>\n",
       "  </tbody>\n",
       "</table>\n",
       "</div>"
      ],
      "text/plain": [
       "Empty DataFrame\n",
       "Columns: [Title, Video URL, Thumbnail URL, Views, Posting Time]\n",
       "Index: []"
      ]
     },
     "execution_count": 47,
     "metadata": {},
     "output_type": "execute_result"
    }
   ],
   "source": [
    "df"
   ]
  },
  {
   "cell_type": "code",
   "execution_count": null,
   "id": "53884e98-65e8-47e6-84a1-a42a684ebb79",
   "metadata": {},
   "outputs": [],
   "source": []
  }
 ],
 "metadata": {
  "kernelspec": {
   "display_name": "Python 3 (ipykernel)",
   "language": "python",
   "name": "python3"
  },
  "language_info": {
   "codemirror_mode": {
    "name": "ipython",
    "version": 3
   },
   "file_extension": ".py",
   "mimetype": "text/x-python",
   "name": "python",
   "nbconvert_exporter": "python",
   "pygments_lexer": "ipython3",
   "version": "3.12.4"
  }
 },
 "nbformat": 4,
 "nbformat_minor": 5
}
